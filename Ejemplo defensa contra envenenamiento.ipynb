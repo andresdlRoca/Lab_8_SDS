{
 "cells": [
  {
   "cell_type": "code",
   "execution_count": 1,
   "id": "19491aef",
   "metadata": {},
   "outputs": [
    {
     "name": "stderr",
     "output_type": "stream",
     "text": [
      "/Users/jyass/miniforge3/lib/python3.9/site-packages/requests/__init__.py:102: RequestsDependencyWarning: urllib3 (2.2.1) or chardet (5.2.0)/charset_normalizer (2.0.12) doesn't match a supported version!\n",
      "  warnings.warn(\"urllib3 ({}) or chardet ({})/charset_normalizer ({}) doesn't match a supported \"\n",
      "/Users/jyass/miniforge3/lib/python3.9/site-packages/tqdm/auto.py:22: TqdmWarning: IProgress not found. Please update jupyter and ipywidgets. See https://ipywidgets.readthedocs.io/en/stable/user_install.html\n",
      "  from .autonotebook import tqdm as notebook_tqdm\n"
     ]
    }
   ],
   "source": [
    "import tensorflow as tf\n",
    "from tensorflow.keras.layers import Conv2D, MaxPool2D, Dense, Flatten\n",
    "import numpy as np\n",
    "import matplotlib.pyplot as plt\n",
    "import matplotlib\n",
    "from art.estimators.classification import KerasClassifier #No soporta TF 2\n",
    "from art.attacks.poisoning import PoisoningAttackBackdoor\n",
    "from art.attacks.poisoning.perturbations import add_pattern_bd\n",
    "from art.utils import load_dataset, to_categorical\n",
    "\n",
    "# Disabling eager execution from TF 2\n",
    "tf.compat.v1.disable_eager_execution()"
   ]
  },
  {
   "cell_type": "markdown",
   "id": "e60f9869",
   "metadata": {},
   "source": [
    "<h1>Envenenamiento</h1>"
   ]
  },
  {
   "cell_type": "code",
   "execution_count": 2,
   "id": "9446510e",
   "metadata": {},
   "outputs": [],
   "source": [
    "(train_images_original, train_labels_original), (test_images_original, test_labels_original), min, max = load_dataset(name=\"mnist\")"
   ]
  },
  {
   "cell_type": "code",
   "execution_count": 3,
   "id": "0ea162c4",
   "metadata": {},
   "outputs": [],
   "source": [
    "#Backdoor attack\n",
    "# Function for poisoning a given dataset\n",
    "def poison_dataset(\n",
    "    clean_images, \n",
    "    clean_labels, \n",
    "    target_labels, \n",
    "    percent_poison\n",
    "    ):\n",
    "    # Creating copies of our clean images and labels\n",
    "    # Poisoned samples will be added to these copies\n",
    "    x_poison = clean_images.copy()\n",
    "    y_poison = clean_labels.copy()\n",
    "\n",
    "    # Array to indicate if a sample is poisoned or not\n",
    "    # 0s are for clean samples, 1s are for poisoned samples\n",
    "    is_poison = np.zeros(shape=y_poison.shape[0])\n",
    "\n",
    "    # Indicating our source labels (as integers)\n",
    "    source_labels = np.arange(10)\n",
    "\n",
    "    # Defining a backdoor attack\n",
    "    backdoor_attack = PoisoningAttackBackdoor(perturbation=add_pattern_bd)    \n",
    "\n",
    "    # Iterating over our source labels and provided target labels\n",
    "    for (source_label, target_label) in (zip(source_labels, target_labels)):\n",
    "        # Calculating the number of clean labels that are equal to the\n",
    "        # current source label\n",
    "        num_labels = np.size(np.where(np.argmax(a=clean_labels, axis=1) == source_label))                \n",
    "\n",
    "        # Calculating the number of samples that should be poisoned from\n",
    "        # the current source labels\n",
    "        num_poison = round(percent_poison * num_labels)\n",
    "        \n",
    "        # Getting the images for the current clean label\n",
    "        source_images = clean_images[np.argmax(a=clean_labels, axis=1) == source_label]\n",
    "\n",
    "        # Randomly picking indices to poison\n",
    "        indices_to_be_poisoned = np.random.choice(\n",
    "            a=num_labels, \n",
    "            size=num_poison\n",
    "            )        \n",
    "\n",
    "        # Get the images for the current label that should be poisoned\n",
    "        images_to_be_poisoned = source_images[indices_to_be_poisoned].copy()        \n",
    "\n",
    "        # Converting the target label to a categorical\n",
    "        target_label = to_categorical(labels=(np.ones(shape=num_poison) * target_label), nb_classes=10)\n",
    "\n",
    "        # Poisoning the images and labels for the current label\n",
    "        poisoned_images, poisoned_labels = backdoor_attack.poison(\n",
    "            x=images_to_be_poisoned, \n",
    "            y=target_label\n",
    "            )\n",
    "\n",
    "        # Appending the poisoned images to our clean images\n",
    "        x_poison = np.append(\n",
    "            arr=x_poison, \n",
    "            values=poisoned_images, \n",
    "            axis=0\n",
    "            )\n",
    "\n",
    "        # Appending the poisoned labels to our clean labels\n",
    "        y_poison = np.append(\n",
    "            arr=y_poison, \n",
    "            values=poisoned_labels, \n",
    "            axis=0\n",
    "            )\n",
    "\n",
    "        # Appending 1s to the poison indicator array\n",
    "        is_poison = np.append(\n",
    "            arr=is_poison, \n",
    "            values=np.ones(shape=num_poison)\n",
    "            )\n",
    "    \n",
    "    # Returning the poisoned samples and the poison indicator array\n",
    "    return is_poison, x_poison, y_poison"
   ]
  },
  {
   "cell_type": "code",
   "execution_count": 4,
   "id": "e5f0641a",
   "metadata": {},
   "outputs": [],
   "source": [
    "# Defining target labels (0, 1, 2, 3 ... 0)\n",
    "target_labels = (np.arange(10) + 1) % 10\n",
    "\n",
    "# Poisoning the training data\n",
    "percent_poison = .50\n",
    "(is_poison_train, train_images, train_labels) = poison_dataset(\n",
    "    clean_images=train_images_original[:10000], \n",
    "    clean_labels=train_labels_original[:10000], \n",
    "    target_labels=target_labels, \n",
    "    percent_poison=percent_poison)\n",
    "\n",
    "# Poisoning the test data\n",
    "(is_poison_test, test_images, test_labels) = poison_dataset(\n",
    "    clean_images=test_images_original, \n",
    "    clean_labels=test_labels_original,\n",
    "    target_labels=target_labels, \n",
    "    percent_poison=percent_poison)\n",
    "\n",
    "# Getting the clean and poisoned images & labels from the test set\n",
    "clean_test_images, clean_test_labels = test_images[is_poison_test == 0], test_labels[is_poison_test == 0]\n",
    "poisoned_test_images, poisoned_test_labels = test_images[is_poison_test == 1], test_labels[is_poison_test == 1]\n",
    "\n",
    "# Shuffling the training data\n",
    "num_train = train_images.shape[0]\n",
    "shuffled_indices = np.arange(num_train)\n",
    "np.random.shuffle(shuffled_indices)\n",
    "train_images = train_images[shuffled_indices]\n",
    "train_labels = train_labels[shuffled_indices]"
   ]
  },
  {
   "cell_type": "code",
   "execution_count": 5,
   "id": "28fcb594",
   "metadata": {},
   "outputs": [],
   "source": [
    "# Function for creating a figure and axes\n",
    "def create_figure_axes(\n",
    "    nrows, \n",
    "    ncols, \n",
    "    figsize\n",
    "    ):\n",
    "    # Creating a figure and axes\n",
    "    fig, axes = plt.subplots(\n",
    "        nrows=nrows, \n",
    "        ncols=ncols, \n",
    "        figsize=figsize\n",
    "        )\n",
    "\n",
    "    # Returning the figure and axes\n",
    "    return fig, axes"
   ]
  },
  {
   "cell_type": "code",
   "execution_count": 6,
   "id": "ca6171c2",
   "metadata": {},
   "outputs": [],
   "source": [
    "# Function for plotting images\n",
    "def plot_images(\n",
    "    images,\n",
    "    labels,    \n",
    "    plot_label,\n",
    "    is_categorical,\n",
    "    nrows, \n",
    "    ncols,\n",
    "    figsize\n",
    "    ):    \n",
    "    # Creating a figure and axes\n",
    "    fig, axes = create_figure_axes(\n",
    "        nrows=nrows, \n",
    "        ncols=ncols, \n",
    "        figsize=figsize\n",
    "        )\n",
    "\n",
    "    # Defining a counting variable\n",
    "    counter = 0\n",
    "\n",
    "    # Iterating over our rows and cols,\n",
    "    # plotting poisoned test images\n",
    "    # along with their true targets\n",
    "    for i in range(nrows):\n",
    "        for j in range(ncols):\n",
    "            # Converting the current label to an integer \n",
    "            # if it is categorical\n",
    "            if is_categorical:\n",
    "                label = np.argmax(a=labels[counter])\n",
    "            else:\n",
    "                label = labels[counter]\n",
    "            \n",
    "            # Displaying the current image\n",
    "            # and setting axis title\n",
    "            axes[i, j].imshow(images[counter])\n",
    "            axes[i, j].set_title(label=f\"{plot_label}: {label}\")\n",
    "\n",
    "            # Disabling ticks\n",
    "            axes[i, j].set_xticks(ticks=[])\n",
    "            axes[i, j].set_yticks(ticks=[])\n",
    "\n",
    "            # Incrementing the counter\n",
    "            counter += 1"
   ]
  },
  {
   "cell_type": "code",
   "execution_count": 7,
   "id": "2a1ea581",
   "metadata": {},
   "outputs": [
    {
     "data": {
      "image/png": "[encoded data removed]",
      "text/plain": [
       "<Figure size 1800x720 with 10 Axes>"
      ]
     },
     "metadata": {},
     "output_type": "display_data"
    }
   ],
   "source": [
    "# Plotting ten samples of training images and their labels\n",
    "plot_images(\n",
    "    images=train_images, \n",
    "    labels=train_labels,\n",
    "    plot_label=\"Label\",\n",
    "    is_categorical=True,\n",
    "    nrows=2,\n",
    "    ncols=5,\n",
    "    figsize=(25, 10))"
   ]
  },
  {
   "cell_type": "code",
   "execution_count": 8,
   "id": "b682a6d2",
   "metadata": {},
   "outputs": [],
   "source": [
    "# Function for creating model\n",
    "def create_model():\n",
    "    # Defining the model\n",
    "    model = tf.keras.models.Sequential([\n",
    "        Conv2D(filters=32, kernel_size=3, activation=\"relu\", input_shape=(28, 28, 1)),\n",
    "        Conv2D(filters=64, kernel_size=3, activation=\"relu\"),\n",
    "        MaxPool2D(pool_size=2),        \n",
    "        Flatten(),\n",
    "        Dense(units=128, activation=\"relu\"),\n",
    "        Dense(units=10, activation=\"softmax\")\n",
    "    ])\n",
    "\n",
    "    # Compiling the model\n",
    "    model.compile(\n",
    "        optimizer=\"adam\",\n",
    "        loss=\"categorical_crossentropy\",\n",
    "        metrics=[\"accuracy\"]\n",
    "        )   \n",
    "\n",
    "    # Returning the model\n",
    "    return model"
   ]
  },
  {
   "cell_type": "code",
   "execution_count": 9,
   "id": "f65602c1",
   "metadata": {},
   "outputs": [
    {
     "name": "stdout",
     "output_type": "stream",
     "text": [
      "Train on 15001 samples\n",
      "Metal device set to: Apple M1\n",
      "Epoch 1/10\n"
     ]
    },
    {
     "name": "stderr",
     "output_type": "stream",
     "text": [
      "2024-05-03 20:54:53.856964: I tensorflow/core/common_runtime/pluggable_device/pluggable_device_factory.cc:305] Could not identify NUMA node of platform GPU ID 0, defaulting to 0. Your kernel may not have been built with NUMA support.\n",
      "2024-05-03 20:54:53.857079: I tensorflow/core/common_runtime/pluggable_device/pluggable_device_factory.cc:271] Created TensorFlow device (/job:localhost/replica:0/task:0/device:GPU:0 with 0 MB memory) -> physical PluggableDevice (device: 0, name: METAL, pci bus id: <undefined>)\n",
      "2024-05-03 20:54:53.864622: W tensorflow/core/platform/profile_utils/cpu_utils.cc:128] Failed to get CPU frequency: 0 Hz\n",
      "2024-05-03 20:54:53.864705: I tensorflow/core/grappler/optimizers/custom_graph_optimizer_registry.cc:113] Plugin optimizer for device_type GPU is enabled.\n",
      "2024-05-03 20:54:53.878222: I tensorflow/core/grappler/optimizers/custom_graph_optimizer_registry.cc:113] Plugin optimizer for device_type GPU is enabled.\n",
      "2024-05-03 20:54:53.985484: I tensorflow/core/grappler/optimizers/custom_graph_optimizer_registry.cc:113] Plugin optimizer for device_type GPU is enabled.\n",
      "2024-05-03 20:54:53.990548: I tensorflow/core/grappler/optimizers/custom_graph_optimizer_registry.cc:113] Plugin optimizer for device_type GPU is enabled.\n"
     ]
    },
    {
     "name": "stdout",
     "output_type": "stream",
     "text": [
      "15001/15001 [==============================] - 7s 440us/sample - loss: 0.4692 - accuracy: 0.8391\n",
      "Epoch 2/10\n",
      "15001/15001 [==============================] - 6s 423us/sample - loss: 0.0854 - accuracy: 0.9749\n",
      "Epoch 3/10\n",
      "15001/15001 [==============================] - 6s 418us/sample - loss: 0.0449 - accuracy: 0.9868\n",
      "Epoch 4/10\n",
      "15001/15001 [==============================] - 6s 416us/sample - loss: 0.0205 - accuracy: 0.9935\n",
      "Epoch 5/10\n",
      "15001/15001 [==============================] - 6s 421us/sample - loss: 0.0159 - accuracy: 0.9953\n",
      "Epoch 6/10\n",
      "15001/15001 [==============================] - 6s 419us/sample - loss: 0.0100 - accuracy: 0.9969\n",
      "Epoch 7/10\n",
      "15001/15001 [==============================] - 6s 425us/sample - loss: 0.0180 - accuracy: 0.9939\n",
      "Epoch 8/10\n",
      "15001/15001 [==============================] - 6s 419us/sample - loss: 0.0137 - accuracy: 0.9968\n",
      "Epoch 9/10\n",
      "15001/15001 [==============================] - 6s 418us/sample - loss: 0.0046 - accuracy: 0.9989\n",
      "Epoch 10/10\n",
      "15001/15001 [==============================] - 6s 423us/sample - loss: 0.0051 - accuracy: 0.9981\n"
     ]
    },
    {
     "data": {
      "text/plain": [
       "<keras.callbacks.History at 0x3210d6af0>"
      ]
     },
     "execution_count": 9,
     "metadata": {},
     "output_type": "execute_result"
    }
   ],
   "source": [
    "# Creating and training a victim classifier\n",
    "# with the poisoned data\n",
    "model_poisoned = create_model()\n",
    "model_poisoned.fit(\n",
    "    x=train_images, \n",
    "    y=train_labels, \n",
    "    epochs=10\n",
    "    )"
   ]
  },
  {
   "cell_type": "code",
   "execution_count": 10,
   "id": "1b74c05a",
   "metadata": {},
   "outputs": [
    {
     "name": "stderr",
     "output_type": "stream",
     "text": [
      "/Users/jyass/miniforge3/lib/python3.9/site-packages/keras/engine/training_v1.py:2079: UserWarning: `Model.state_updates` will be removed in a future version. This property should not be used in TensorFlow 2.0, as `updates` are applied automatically.\n",
      "  updates=self.state_updates,\n",
      "2024-05-03 20:56:02.162988: I tensorflow/core/grappler/optimizers/custom_graph_optimizer_registry.cc:113] Plugin optimizer for device_type GPU is enabled.\n"
     ]
    },
    {
     "data": {
      "image/png": "[encoded data removed]",
      "text/plain": [
       "<Figure size 1800x720 with 10 Axes>"
      ]
     },
     "metadata": {},
     "output_type": "display_data"
    }
   ],
   "source": [
    "# Getting predictions for the selected images\n",
    "clean_predictions = model_poisoned.predict(x=clean_test_images)\n",
    "\n",
    "# Plotting clean test images and their predictions\n",
    "plot_images(\n",
    "    images=clean_test_images,\n",
    "    labels=clean_predictions,\n",
    "    plot_label=\"Clean Prediction\",\n",
    "    is_categorical=True,\n",
    "    nrows=2,\n",
    "    ncols=5,\n",
    "    figsize=(25, 10)\n",
    ")"
   ]
  },
  {
   "cell_type": "code",
   "execution_count": 11,
   "id": "0e98d523",
   "metadata": {},
   "outputs": [
    {
     "data": {
      "image/png": "[encoded data removed]",
      "text/plain": [
       "<Figure size 1800x720 with 10 Axes>"
      ]
     },
     "metadata": {},
     "output_type": "display_data"
    }
   ],
   "source": [
    "# Getting random ten images from the poisoned test set\n",
    "num_samples = 10\n",
    "sample_indices = np.random.choice(\n",
    "    a=len(poisoned_test_images), \n",
    "    size=num_samples\n",
    "    )\n",
    "sample_poisoned_images = poisoned_test_images[sample_indices]\n",
    "\n",
    "# Getting predictions for the selected images\n",
    "poisoned_predictions = model_poisoned.predict(x=sample_poisoned_images)\n",
    "\n",
    "# Plotting poisoned test images and their predictions\n",
    "plot_images(\n",
    "    images=sample_poisoned_images,\n",
    "    labels=poisoned_predictions,\n",
    "    plot_label=\"Poisoned Prediction\",\n",
    "    is_categorical=True,\n",
    "    nrows=2,\n",
    "    ncols=5,\n",
    "    figsize=(25, 10)\n",
    ")"
   ]
  },
  {
   "cell_type": "markdown",
   "id": "70cdd7f2",
   "metadata": {},
   "source": [
    "<h1>Defensa contra envenenamiento</h1>"
   ]
  },
  {
   "cell_type": "code",
   "execution_count": 12,
   "id": "037baeba",
   "metadata": {},
   "outputs": [],
   "source": [
    "from art.defences.detector.poison import ActivationDefence\n",
    "\n",
    "# Wrapping our model in KerasClassifier\n",
    "classifier_poisoned = KerasClassifier(\n",
    "    model=model_poisoned,\n",
    "    clip_values=(min, max)\n",
    ")\n",
    "\n",
    "# Initializing a defense object\n",
    "defense = ActivationDefence(\n",
    "    classifier=classifier_poisoned, \n",
    "    x_train=train_images, \n",
    "    y_train=train_labels\n",
    "    )"
   ]
  },
  {
   "cell_type": "code",
   "execution_count": 13,
   "id": "a754532a",
   "metadata": {},
   "outputs": [
    {
     "name": "stderr",
     "output_type": "stream",
     "text": [
      "2024-05-03 20:59:08.475863: I tensorflow/core/grappler/optimizers/custom_graph_optimizer_registry.cc:113] Plugin optimizer for device_type GPU is enabled.\n",
      "/Users/jyass/miniforge3/lib/python3.9/site-packages/art/defences/detector/poison/clustering_analyzer.py:102: VisibleDeprecationWarning: Creating an ndarray from ragged nested sequences (which is a list-or-tuple of lists-or-tuples-or ndarrays with different lengths or shapes) is deprecated. If you meant to do this, you must specify 'dtype=object' when creating the ndarray.\n",
      "  return np.asarray(all_assigned_clean), summary_poison_clusters, report\n"
     ]
    }
   ],
   "source": [
    "#La defensa usa K-means y PCA para la detección de dos clusteres, maliciosos y no maliciosos\n",
    "# Detecting poisoned samples in the provided images\n",
    "\n",
    "report, is_clean_reported = defense.detect_poison(\n",
    "    nb_clusters=2,\n",
    "    reduce=\"PCA\",\n",
    "    nb_dims=10)"
   ]
  },
  {
   "cell_type": "code",
   "execution_count": 14,
   "id": "32068419",
   "metadata": {},
   "outputs": [
    {
     "name": "stdout",
     "output_type": "stream",
     "text": [
      "{'Class_0': {'cluster_0': {'ptc_data_in_cluster': 0.33,\n",
      "                           'suspicious_cluster': True},\n",
      "             'cluster_1': {'ptc_data_in_cluster': 0.67,\n",
      "                           'suspicious_cluster': False}},\n",
      " 'Class_1': {'cluster_0': {'ptc_data_in_cluster': 0.69,\n",
      "                           'suspicious_cluster': False},\n",
      "             'cluster_1': {'ptc_data_in_cluster': 0.31,\n",
      "                           'suspicious_cluster': True}},\n",
      " 'Class_2': {'cluster_0': {'ptc_data_in_cluster': 0.36,\n",
      "                           'suspicious_cluster': True},\n",
      "             'cluster_1': {'ptc_data_in_cluster': 0.64,\n",
      "                           'suspicious_cluster': False}},\n",
      " 'Class_3': {'cluster_0': {'ptc_data_in_cluster': 0.68,\n",
      "                           'suspicious_cluster': False},\n",
      "             'cluster_1': {'ptc_data_in_cluster': 0.32,\n",
      "                           'suspicious_cluster': True}},\n",
      " 'Class_4': {'cluster_0': {'ptc_data_in_cluster': 0.34,\n",
      "                           'suspicious_cluster': True},\n",
      "             'cluster_1': {'ptc_data_in_cluster': 0.66,\n",
      "                           'suspicious_cluster': False}},\n",
      " 'Class_5': {'cluster_0': {'ptc_data_in_cluster': 0.64,\n",
      "                           'suspicious_cluster': False},\n",
      "             'cluster_1': {'ptc_data_in_cluster': 0.36,\n",
      "                           'suspicious_cluster': True}},\n",
      " 'Class_6': {'cluster_0': {'ptc_data_in_cluster': 0.3,\n",
      "                           'suspicious_cluster': True},\n",
      "             'cluster_1': {'ptc_data_in_cluster': 0.7,\n",
      "                           'suspicious_cluster': False}},\n",
      " 'Class_7': {'cluster_0': {'ptc_data_in_cluster': 0.68,\n",
      "                           'suspicious_cluster': False},\n",
      "             'cluster_1': {'ptc_data_in_cluster': 0.32,\n",
      "                           'suspicious_cluster': True}},\n",
      " 'Class_8': {'cluster_0': {'ptc_data_in_cluster': 0.64,\n",
      "                           'suspicious_cluster': False},\n",
      "             'cluster_1': {'ptc_data_in_cluster': 0.36,\n",
      "                           'suspicious_cluster': True}},\n",
      " 'Class_9': {'cluster_0': {'ptc_data_in_cluster': 0.33,\n",
      "                           'suspicious_cluster': True},\n",
      "             'cluster_1': {'ptc_data_in_cluster': 0.67,\n",
      "                           'suspicious_cluster': False}},\n",
      " 'cluster_analysis': 'smaller',\n",
      " 'clustering_method': 'KMeans',\n",
      " 'generator': None,\n",
      " 'nb_clusters': 2,\n",
      " 'nb_dims': 10,\n",
      " 'reduce': 'PCA',\n",
      " 'suspicious_clusters': 10.0}\n"
     ]
    }
   ],
   "source": [
    "# Inspecting the report\n",
    "import pprint\n",
    "pprint.pprint(report)"
   ]
  },
  {
   "cell_type": "code",
   "execution_count": 15,
   "id": "3ab1a098",
   "metadata": {},
   "outputs": [
    {
     "data": {
      "image/png": "[encoded data removed]",
      "text/plain": [
       "<Figure size 1800x720 with 10 Axes>"
      ]
     },
     "metadata": {},
     "output_type": "display_data"
    }
   ],
   "source": [
    "# Plotting ten samples of training images and their labels\n",
    "plot_images(\n",
    "    images=train_images, \n",
    "    labels=np.array(object=is_clean_reported) == 1,\n",
    "    plot_label=\"Is clean\",\n",
    "    is_categorical=False,\n",
    "    nrows=2,\n",
    "    ncols=5,\n",
    "    figsize=(25, 10))"
   ]
  },
  {
   "cell_type": "code",
   "execution_count": null,
   "id": "173ecd50",
   "metadata": {},
   "outputs": [],
   "source": []
  }
 ],
 "metadata": {
  "kernelspec": {
   "display_name": "Python 3 (ipykernel)",
   "language": "python",
   "name": "python3"
  },
  "language_info": {
   "codemirror_mode": {
    "name": "ipython",
    "version": 3
   },
   "file_extension": ".py",
   "mimetype": "text/x-python",
   "name": "python",
   "nbconvert_exporter": "python",
   "pygments_lexer": "ipython3",
   "version": "3.9.10"
  }
 },
 "nbformat": 4,
 "nbformat_minor": 5
}
